{
 "cells": [
  {
   "cell_type": "code",
   "execution_count": 1,
   "id": "3feb202c",
   "metadata": {},
   "outputs": [],
   "source": [
    "import utils as utils\n",
    "from video_utils import create_video_from_intermediate_results\n",
    "\n",
    "import torch\n",
    "from torch.optim import Adam, LBFGS\n",
    "from torch.autograd import Variable\n",
    "import numpy as np\n",
    "import os\n",
    "import argparse\n"
   ]
  },
  {
   "cell_type": "code",
   "execution_count": null,
   "id": "609c7685",
   "metadata": {},
   "outputs": [],
   "source": []
  }
 ],
 "metadata": {
  "kernelspec": {
   "display_name": "Python 3",
   "language": "python",
   "name": "python3"
  },
  "language_info": {
   "codemirror_mode": {
    "name": "ipython",
    "version": 3
   },
   "file_extension": ".py",
   "mimetype": "text/x-python",
   "name": "python",
   "nbconvert_exporter": "python",
   "pygments_lexer": "ipython3",
   "version": "3.11.9"
  }
 },
 "nbformat": 4,
 "nbformat_minor": 5
}
