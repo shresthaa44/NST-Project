{
 "cells": [
  {
   "cell_type": "code",
   "execution_count": 1,
   "id": "3feb202c",
   "metadata": {},
   "outputs": [],
   "source": [
    "import utils as utils\n",
    "from video_utils import create_video_from_intermediate_results\n",
    "\n",
    "import torch\n",
    "from torch.optim import Adam, LBFGS\n",
    "from torch.autograd import Variable\n",
    "import numpy as np\n",
    "import os\n",
    "import argparse\n"
   ]
  },
  {
   "cell_type": "code",
   "execution_count": 2,
   "id": "609c7685",
   "metadata": {},
   "outputs": [],
   "source": [
    "def build_loss(neural_net, optimizing_img, target_representations, content_feature_maps_index, style_feature_maps_indices, config):\n",
    "    target_content_representation = target_representations[0]\n",
    "    target_style_representation = target_representations[1]\n",
    "\n",
    "    current_set_of_feature_maps = neural_net(optimizing_img)\n",
    "\n",
    "    current_content_representation = current_set_of_feature_maps[content_feature_maps_index].squeeze(axis=0)\n",
    "    content_loss = torch.nn.MSELoss(reduction='mean')(target_content_representation, current_content_representation)\n",
    "\n",
    "    style_loss = 0.0\n",
    "    current_style_representation = [utils.gram_matrix(x) for cnt, x in enumerate(current_set_of_feature_maps) if cnt in style_feature_maps_indices]\n",
    "    for gram_gt, gram_hat in zip(target_style_representation, current_style_representation):\n",
    "        style_loss += torch.nn.MSELoss(reduction='sum')(gram_gt[0], gram_hat[0])\n",
    "    style_loss /= len(target_style_representation)\n",
    "\n",
    "    tv_loss = utils.total_variation(optimizing_img)\n",
    "\n",
    "    total_loss = config['content_weight'] * content_loss + config['style_weight'] * style_loss + config['tv_weight'] * tv_loss\n",
    "\n",
    "    return total_loss, content_loss, style_loss, tv_loss"
   ]
  },
  {
   "cell_type": "code",
   "execution_count": 3,
   "id": "761c0c0e",
   "metadata": {},
   "outputs": [],
   "source": [
    "def make_tuning_step(neural_net, optimizer, target_representations, content_feature_maps_index, style_feature_maps_indices, config):\n",
    "    # Builds function that performs a step in the tuning loop\n",
    "    def tuning_step(optimizing_img):\n",
    "        total_loss, content_loss, style_loss, tv_loss = build_loss(neural_net, optimizing_img, target_representations, content_feature_maps_index, style_feature_maps_indices, config)\n",
    "        # Computes gradients\n",
    "        total_loss.backward()\n",
    "        # Updates parameters and zeroes gradients\n",
    "        optimizer.step()\n",
    "        optimizer.zero_grad()\n",
    "        return total_loss, content_loss, style_loss, tv_loss\n",
    "\n",
    "    # Returns the function that will be called inside the tuning loop\n",
    "    return tuning_step"
   ]
  },
  {
   "cell_type": "code",
   "execution_count": null,
   "id": "0a88b551",
   "metadata": {},
   "outputs": [],
   "source": []
  }
 ],
 "metadata": {
  "kernelspec": {
   "display_name": "Python 3",
   "language": "python",
   "name": "python3"
  },
  "language_info": {
   "codemirror_mode": {
    "name": "ipython",
    "version": 3
   },
   "file_extension": ".py",
   "mimetype": "text/x-python",
   "name": "python",
   "nbconvert_exporter": "python",
   "pygments_lexer": "ipython3",
   "version": "3.11.9"
  }
 },
 "nbformat": 4,
 "nbformat_minor": 5
}
