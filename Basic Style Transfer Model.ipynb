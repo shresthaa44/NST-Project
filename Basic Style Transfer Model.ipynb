{
 "cells": [
  {
   "cell_type": "code",
   "execution_count": null,
   "id": "b176a8be-1d8d-4604-b079-dd6e806351e0",
   "metadata": {},
   "outputs": [],
   "source": [
    "import tensorflow_hub as hub\n",
    "import tensorflow as tf\n",
    "from matplotlib import pyplot as plt\n",
    "import numpy as np\n",
    "import cv2"
   ]
  },
  {
   "cell_type": "code",
   "execution_count": null,
   "id": "129e4790-4010-4087-a5a1-76b35feefd87",
   "metadata": {},
   "outputs": [],
   "source": [
    "model = hub.load('https://tfhub.dev/google/magenta/arbitrary-image-stylization-v1-256/2')"
   ]
  },
  {
   "cell_type": "code",
   "execution_count": null,
   "id": "ca4a7c47-35f1-477d-a28a-0748f0d554ab",
   "metadata": {},
   "outputs": [],
   "source": [
    "def load_image(img_path):\n",
    "    img = tf.io.read_file(img_path)   #reads the img as binary stringg\n",
    "    img = tf.image.decode_image(img, channels=3, expand_animations=False)   #decodes into pixels and output is in RGB channel3\n",
    "    img = tf.image.convert_image_dtype(img, tf.float32)  #converts pixels ui8(0-255 0 is black and 255 is white) to float32 It helps speed up training and stabilizes gradients.\n",
    "    img = img[tf.newaxis, :]  #NN excepts (batch_size, height, width, channels)\n",
    "    return img"
   ]
  },
  {
   "cell_type": "code",
   "execution_count": null,
   "id": "9d298f25-8643-497e-ab95-1d70a1f44c09",
   "metadata": {},
   "outputs": [],
   "source": [
    "content_image = load_image('man.jpg')\n",
    "style_image = load_image('monet.jpeg')"
   ]
  },
  {
   "cell_type": "code",
   "execution_count": null,
   "id": "bf7a009d-a64b-4a1a-bd1a-4c5ff5a80776",
   "metadata": {},
   "outputs": [],
   "source": [
    "content_image.shape    #tensorshape( batchsize, height, width , channel"
   ]
  },
  {
   "cell_type": "code",
   "execution_count": null,
   "id": "28fd4368-ce51-4b01-b9b6-9c8a9b97daa0",
   "metadata": {},
   "outputs": [],
   "source": [
    "plt.imshow(np.squeeze(style_image))    #converts the image from (B,H,W,C) to (H,W,C)\n",
    "plt.show()   #shoes the image"
   ]
  },
  {
   "cell_type": "code",
   "execution_count": null,
   "id": "0d1bf4dd-f9fb-4484-bb0b-200fe7af85a3",
   "metadata": {},
   "outputs": [],
   "source": [
    "stylized_image = model(tf.constant(content_image), tf.constant(style_image))\n",
    "#.constant means You're converting the NumPy/TF image tensors (content_image, style_image) to TensorFlow constants.\n"
   ]
  },
  {
   "cell_type": "code",
   "execution_count": null,
   "id": "e26ddc9d-7513-4021-8b79-2efe5309a973",
   "metadata": {},
   "outputs": [],
   "source": [
    "plt.imshow(np.squeeze(stylized_image))    #4d tensor to 3d which can be shown by pyplot easily & .imshow Displays the image in RGB format.\n",
    "plt.show()"
   ]
  },
  {
   "cell_type": "code",
   "execution_count": null,
   "id": "6bded01f-ab3e-428f-a3f7-e4076e69c600",
   "metadata": {},
   "outputs": [],
   "source": [
    "plt.imshow(np.squeeze(content_image)) \n",
    "plt.show()"
   ]
  },
  {
   "cell_type": "code",
   "execution_count": null,
   "id": "f464e0f8-0b63-4cc3-a135-6c8d23776b02",
   "metadata": {},
   "outputs": [],
   "source": []
  }
 ],
 "metadata": {
  "kernelspec": {
   "display_name": "Python 3",
   "language": "python",
   "name": "python3"
  },
  "language_info": {
   "codemirror_mode": {
    "name": "ipython",
    "version": 3
   },
   "file_extension": ".py",
   "mimetype": "text/x-python",
   "name": "python",
   "nbconvert_exporter": "python",
   "pygments_lexer": "ipython3",
   "version": "3.11.9"
  }
 },
 "nbformat": 4,
 "nbformat_minor": 5
}
