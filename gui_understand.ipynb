{
 "cells": [
  {
   "cell_type": "code",
   "execution_count": null,
   "id": "20736c36",
   "metadata": {},
   "outputs": [],
   "source": [
    "import utils as ut\n",
    "import cv2 as cv\n",
    "import numpy as np\n",
    "import torch\n",
    "from torchvision import transforms\n",
    "import os\n",
    "import matplotlib.pyplot as plt\n",
    "import streamlit as st  # Streamlit for GUI\n",
    "import io  # For in-memory download buffer"
   ]
  },
  {
   "cell_type": "markdown",
   "id": "0c3bee86",
   "metadata": {},
   "source": [
    "Following: Inserting the core steps of your Neural Style Transfer process into the run_nst() function, using the utilities and model setup you already have in utils.py\n",
    "\n",
    "\n",
    "Inside run_nst(content_img, style_img), you need to:\n",
    "\n",
    "- Preprocess the input images\n",
    "\n",
    "- Prepare the model\n",
    "\n",
    "- Extract features\n",
    "\n",
    "- Define the loss function\n",
    "\n",
    "- Run optimization\n",
    "\n",
    "- Post-process the final output image\n",
    "\n",
    "- Return the final image (as a NumPy BGR image)"
   ]
  },
  {
   "cell_type": "code",
   "execution_count": null,
   "id": "1434b4f0",
   "metadata": {},
   "outputs": [],
   "source": [
    "def run_nst(content_img, style_img):\n",
    "    \"\"\"\n",
    "    This function receives content and style images as OpenCV NumPy arrays.\n",
    "    Add your model pipeline logic here and return output image (BGR format).\n",
    "    \"\"\"\n",
    "    \n",
    "    output_img = content_img.copy()  # REPLACE this with your NST logic\n",
    "    return output_img"
   ]
  },
  {
   "cell_type": "markdown",
   "id": "844aea96",
   "metadata": {},
   "source": [
    "Go to the run_nst() function and replace this line:\n",
    "\n",
    "\" output_img = content_img.copy() \"\n",
    "\n",
    "with your actual pipeline: preprocessing → model → loss calc → optimization → post-processing.\n",
    "\n"
   ]
  },
  {
   "cell_type": "markdown",
   "id": "f4b5119f",
   "metadata": {},
   "source": [
    "Create a STREAMLIT GUI MAIN FUNCTION"
   ]
  },
  {
   "cell_type": "code",
   "execution_count": 1,
   "id": "f65b853b",
   "metadata": {},
   "outputs": [],
   "source": [
    "def main():\n",
    "    st.title(\"Neural Style Transfer App\")\n"
   ]
  },
  {
   "cell_type": "markdown",
   "id": "acab2a03",
   "metadata": {},
   "source": [
    " FOLLOWING\n",
    " \n",
    " 1. Upload Images\n",
    "\n",
    " These lines add file upload boxes to your app. The user will click and select an image from their computer.\n",
    "\n",
    "- Shows a \"Choose File\" button\n",
    "\n",
    "- Accepts only .jpg or .png\n",
    "\n",
    "- content_file and style_file will store the uploaded files"
   ]
  },
  {
   "cell_type": "code",
   "execution_count": null,
   "id": "c9f387e6",
   "metadata": {},
   "outputs": [],
   "source": [
    "import streamlit as st\n",
    "content_file = st.file_uploader(\"Upload Content Image\", type=[\"jpg\", \"png\"])\n",
    "style_file = st.file_uploader(\"Upload Style Image\", type=[\"jpg\", \"png\"])"
   ]
  },
  {
   "cell_type": "markdown",
   "id": "7b7b035a",
   "metadata": {},
   "source": [
    "Following converts the uploaded file into an OpenCV image (NumPy array).\n",
    "\n",
    "- content_file.read() → reads the image into raw binary bytes\n",
    "\n",
    "- np.frombuffer(..., np.uint8) → converts those bytes into a NumPy array (so OpenCV can use it)\n",
    "\n",
    "- cv2.imdecode(..., 1) → decodes the array into a real image that OpenCV can work with (in BGR format)"
   ]
  },
  {
   "cell_type": "code",
   "execution_count": 11,
   "id": "6c701468",
   "metadata": {},
   "outputs": [],
   "source": [
    "if content_file is not None:\n",
    "    file_bytes = np.frombuffer(content_file.read(), np.uint8)\n",
    "    content_img = cv2.imdecode(file_bytes, 1)  # BGR image"
   ]
  },
  {
   "cell_type": "markdown",
   "id": "5284885e",
   "metadata": {},
   "source": [
    "2. Convert for Display\n",
    "\n",
    "- cv2.cvtColor(..., BGR2RGB) → Converts the image from BGR to RGB, because Streamlit only displays RGB images properly\n",
    "\n",
    "- st.image() → Displays the image in your app with a caption and width"
   ]
  },
  {
   "cell_type": "code",
   "execution_count": null,
   "id": "477541f1",
   "metadata": {},
   "outputs": [],
   "source": [
    "content_rgb = cv2.cvtColor(content_img, cv2.COLOR_BGR2RGB)\n",
    "st.image(content_rgb, caption=\"Content Image\", width=300)"
   ]
  },
  {
   "cell_type": "markdown",
   "id": "bb4529b9",
   "metadata": {},
   "source": [
    "3. Stylize Button + Output Display\n",
    "\n",
    "- st.button(\"Stylize\") → Creates a clickable button labeled \"Stylize\"\n",
    "\n",
    "When clicked, it runs the next few lines\n",
    "\n",
    "- run_nst(...) → This is your custom NST function that takes OpenCV-style images and returns the stylized result\n",
    "\n",
    "- cv2.cvtColor(..., BGR2RGB) → Again, convert the result to RGB for display\n",
    "\n",
    "- st.image(...) → Show the final output image on the screen"
   ]
  },
  {
   "cell_type": "code",
   "execution_count": null,
   "id": "f04966cf",
   "metadata": {},
   "outputs": [],
   "source": [
    "if st.button(\"Stylize\"):\n",
    "    output_bgr = run_nst(content_img, style_img)  # BGR in, BGR out\n",
    "    output_rgb = cv2.cvtColor(output_bgr, cv2.COLOR_BGR2RGB)\n",
    "    st.image(output_rgb, caption=\"Stylized Image\", width=400)"
   ]
  },
  {
   "cell_type": "markdown",
   "id": "b2bc1587",
   "metadata": {},
   "source": [
    " 4. Allow Download\n",
    "\n",
    "- cv2.imencode(\".png\", output_bgr) → Converts the OpenCV image into bytes, like saving it in memory instead of a file\n",
    "\n",
    "- .tobytes() → Gets those image bytes\n",
    "\n",
    "- st.download_button(...) → Adds a \"Download\" button so the user can save the image on their device"
   ]
  },
  {
   "cell_type": "code",
   "execution_count": null,
   "id": "4671acaf",
   "metadata": {},
   "outputs": [],
   "source": [
    "is_success, buffer = cv2.imencode(\".png\", output_bgr)\n",
    "st.download_button(\"Download Stylized Image\", buffer.tobytes(), \"stylized.png\")"
   ]
  }
 ],
 "metadata": {
  "kernelspec": {
   "display_name": "Python 3",
   "language": "python",
   "name": "python3"
  },
  "language_info": {
   "codemirror_mode": {
    "name": "ipython",
    "version": 3
   },
   "file_extension": ".py",
   "mimetype": "text/x-python",
   "name": "python",
   "nbconvert_exporter": "python",
   "pygments_lexer": "ipython3",
   "version": "3.11.9"
  }
 },
 "nbformat": 4,
 "nbformat_minor": 5
}
