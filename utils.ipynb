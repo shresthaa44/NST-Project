{
 "cells": [
  {
   "cell_type": "markdown",
   "id": "3920fd76",
   "metadata": {},
   "source": [
    "1️⃣ Loads and preprocesses images into tensors ready for VGG16/VGG19.\n",
    "2️⃣ Computes Gram matrix — captures the \"style\" of an image (texture, patterns).\n",
    "3️⃣ Computes Total Variation Loss — makes the generated image smoother.\n",
    "4️⃣ Provides functions to save and display intermediate or final images.\n",
    "5️⃣ Loads the correct VGG model and tells which layers to use for content/style features."
   ]
  },
  {
   "cell_type": "code",
   "execution_count": null,
   "id": "f9babd2b",
   "metadata": {
    "vscode": {
     "languageId": "plaintext"
    }
   },
   "outputs": [],
   "source": []
  }
 ],
 "metadata": {
  "language_info": {
   "name": "python"
  }
 },
 "nbformat": 4,
 "nbformat_minor": 5
}
