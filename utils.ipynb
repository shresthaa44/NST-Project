{
 "cells": [
  {
   "cell_type": "markdown",
   "id": "3920fd76",
   "metadata": {},
   "source": [
    "1️⃣ Loads and preprocesses images into tensors ready for VGG16/VGG19.\n",
    "2️⃣ Computes Gram matrix — captures the \"style\" of an image (texture, patterns).\n",
    "3️⃣ Computes Total Variation Loss — makes the generated image smoother.\n",
    "4️⃣ Provides functions to save and display intermediate or final images.\n",
    "5️⃣ Loads the correct VGG model and tells which layers to use for content/style features."
   ]
  },
  {
   "cell_type": "code",
   "execution_count": 1,
   "id": "f9babd2b",
   "metadata": {},
   "outputs": [],
   "source": [
    "import cv2 as cv\n",
    "import numpy as np\n",
    "import torch\n",
    "from torchvision import transforms\n",
    "import os\n",
    "import matplotlib.pyplot as plt"
   ]
  },
  {
   "cell_type": "code",
   "execution_count": 2,
   "id": "26a328fb",
   "metadata": {},
   "outputs": [],
   "source": [
    "from models.definitions.vgg_nets import Vgg16, Vgg19, Vgg16Experimental"
   ]
  },
  {
   "cell_type": "code",
   "execution_count": null,
   "id": "ff05fa1f",
   "metadata": {},
   "outputs": [],
   "source": []
  }
 ],
 "metadata": {
  "kernelspec": {
   "display_name": "base",
   "language": "python",
   "name": "python3"
  },
  "language_info": {
   "codemirror_mode": {
    "name": "ipython",
    "version": 3
   },
   "file_extension": ".py",
   "mimetype": "text/x-python",
   "name": "python",
   "nbconvert_exporter": "python",
   "pygments_lexer": "ipython3",
   "version": "3.12.7"
  }
 },
 "nbformat": 4,
 "nbformat_minor": 5
}
